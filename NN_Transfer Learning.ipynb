{
 "cells": [
  {
   "cell_type": "markdown",
   "metadata": {},
   "source": [
    "# 用轉移學習的方式做NN圖形辨識模型"
   ]
  },
  {
   "cell_type": "markdown",
   "metadata": {},
   "source": [
    "### NN 標準神經網路\n",
    "\n",
    "先做一次一般的0-9手寫數字判讀模型，再用轉移學習的方式做一個只有0或1的手寫數字判讀模型。"
   ]
  },
  {
   "cell_type": "code",
   "execution_count": 1,
   "metadata": {},
   "outputs": [
    {
     "name": "stdout",
     "output_type": "stream",
     "text": [
      "env: KERAS_BACKEND=tensorflow\n"
     ]
    }
   ],
   "source": [
    "# 初始準備\n",
    "%env KERAS_BACKEND=tensorflow"
   ]
  },
  {
   "cell_type": "code",
   "execution_count": 2,
   "metadata": {},
   "outputs": [],
   "source": [
    "# KERAS function\n",
    "from keras.models import Sequential\n",
    "from keras.layers import Dense, Activation\n",
    "from keras.optimizers import SGD\n",
    "\n",
    "# KERAS dataset - modified NIST\n",
    "from keras.datasets import mnist\n",
    "\n",
    "# KERAS utils function\n",
    "from keras.utils import np_utils"
   ]
  },
  {
   "cell_type": "code",
   "execution_count": 3,
   "metadata": {},
   "outputs": [
    {
     "name": "stdout",
     "output_type": "stream",
     "text": [
      "x_train: (60000, 28, 28)\n",
      "x_test: (10000, 28, 28)\n",
      "y_train: (60000,)\n",
      "y_test: (10000,)\n"
     ]
    }
   ],
   "source": [
    "# read in train, test data\n",
    "(x_train, y_train), (x_test, y_test) = mnist.load_data()\n",
    "\n",
    "# check the shape\n",
    "print('x_train:',x_train.shape)\n",
    "print('x_test:',x_test.shape)\n",
    "print('y_train:',y_train.shape)\n",
    "print('y_test:',y_test.shape)\n"
   ]
  },
  {
   "cell_type": "code",
   "execution_count": 4,
   "metadata": {},
   "outputs": [],
   "source": [
    "# reshape x_train, x_test\n",
    "x_train = x_train.reshape(60000,784)\n",
    "x_test = x_test.reshape(10000,784)\n",
    "\n",
    "# seperate 0 and 1 data\n",
    "x_train_01 = x_train[y_train <= 1]\n",
    "x_test_01 = x_test[y_test <= 1]\n",
    "\n",
    "\n",
    "# transfer y_train, y_test to one-hot encoding\n",
    "y_train_10 = np_utils.to_categorical(y_train, 10)\n",
    "y_test_10 = np_utils.to_categorical(y_test, 10)\n",
    "\n",
    "# transfer y_train_01, y_test_01 into one-hot encoding\n",
    "y_train_01 = y_train[y_train <= 1]\n",
    "y_train_01 = np_utils.to_categorical(y_train_01, 2)\n",
    "y_test_01 = y_test[y_test <= 1]\n",
    "y_test_01 = np_utils.to_categorical(y_test_01, 2)"
   ]
  },
  {
   "cell_type": "code",
   "execution_count": 5,
   "metadata": {},
   "outputs": [
    {
     "name": "stdout",
     "output_type": "stream",
     "text": [
      "y_train_10: (60000, 784)\n",
      "y_test_10: (10000, 784)\n",
      "y_train_01: (12665, 2)\n",
      "y_test_01: (2115, 2)\n"
     ]
    }
   ],
   "source": [
    "print('y_train_10:',x_train.shape)\n",
    "print('y_test_10:',x_test.shape)\n",
    "print('y_train_01:',y_train_01.shape)\n",
    "print('y_test_01:',y_test_01.shape)"
   ]
  },
  {
   "cell_type": "code",
   "execution_count": 6,
   "metadata": {},
   "outputs": [
    {
     "name": "stdout",
     "output_type": "stream",
     "text": [
      "Model: \"sequential\"\n",
      "_________________________________________________________________\n",
      "Layer (type)                 Output Shape              Param #   \n",
      "=================================================================\n",
      "dense (Dense)                (None, 500)               392500    \n",
      "_________________________________________________________________\n",
      "activation (Activation)      (None, 500)               0         \n",
      "_________________________________________________________________\n",
      "dense_1 (Dense)              (None, 500)               250500    \n",
      "_________________________________________________________________\n",
      "dense_2 (Dense)              (None, 10)                5010      \n",
      "=================================================================\n",
      "Total params: 648,010\n",
      "Trainable params: 648,010\n",
      "Non-trainable params: 0\n",
      "_________________________________________________________________\n"
     ]
    }
   ],
   "source": [
    "# build layers \n",
    "all_except_last = [Dense(500, input_dim=(784)), \n",
    "                   Activation('sigmoid'),\n",
    "                   Dense(500, Activation('sigmoid'))]\n",
    "\n",
    "output_layer = [Dense(10, Activation('softmax'))]\n",
    "\n",
    "# assemble all layers\n",
    "model_0_to_9 = Sequential(all_except_last + output_layer)\n",
    "model_0_to_9.summary()"
   ]
  },
  {
   "cell_type": "code",
   "execution_count": 7,
   "metadata": {
    "scrolled": false
   },
   "outputs": [],
   "source": [
    "# compile \n",
    "model_0_to_9.compile(loss='mse',\n",
    "                     optimizer = SGD(lr=0.1),\n",
    "                     metrics=['accuracy'])"
   ]
  },
  {
   "cell_type": "code",
   "execution_count": 8,
   "metadata": {},
   "outputs": [
    {
     "name": "stdout",
     "output_type": "stream",
     "text": [
      "Epoch 1/10\n",
      "600/600 [==============================] - 2s 4ms/step - loss: 0.0825 - accuracy: 0.3448\n",
      "Epoch 2/10\n",
      "600/600 [==============================] - 3s 4ms/step - loss: 0.0632 - accuracy: 0.6154\n",
      "Epoch 3/10\n",
      "600/600 [==============================] - 3s 4ms/step - loss: 0.0457 - accuracy: 0.7616\n",
      "Epoch 4/10\n",
      "600/600 [==============================] - 2s 4ms/step - loss: 0.0336 - accuracy: 0.8303\n",
      "Epoch 5/10\n",
      "600/600 [==============================] - 3s 4ms/step - loss: 0.0262 - accuracy: 0.8703\n",
      "Epoch 6/10\n",
      "600/600 [==============================] - 3s 5ms/step - loss: 0.0217 - accuracy: 0.8866\n",
      "Epoch 7/10\n",
      "600/600 [==============================] - 3s 5ms/step - loss: 0.0190 - accuracy: 0.8974\n",
      "Epoch 8/10\n",
      "600/600 [==============================] - 3s 5ms/step - loss: 0.0171 - accuracy: 0.9044\n",
      "Epoch 9/10\n",
      "600/600 [==============================] - 3s 5ms/step - loss: 0.0157 - accuracy: 0.9098\n",
      "Epoch 10/10\n",
      "600/600 [==============================] - 4s 7ms/step - loss: 0.0146 - accuracy: 0.9155\n"
     ]
    },
    {
     "data": {
      "text/plain": [
       "<tensorflow.python.keras.callbacks.History at 0x7fe730d11350>"
      ]
     },
     "execution_count": 8,
     "metadata": {},
     "output_type": "execute_result"
    }
   ],
   "source": [
    "# fit\n",
    "model_0_to_9.fit(x_train, y_train_10, batch_size=100, epochs=10)"
   ]
  },
  {
   "cell_type": "code",
   "execution_count": 9,
   "metadata": {},
   "outputs": [
    {
     "name": "stdout",
     "output_type": "stream",
     "text": [
      "313/313 [==============================] - 1s 2ms/step - loss: 0.0144 - accuracy: 0.9146\n"
     ]
    },
    {
     "data": {
      "text/plain": [
       "[0.014354252256453037, 0.9146000146865845]"
      ]
     },
     "execution_count": 9,
     "metadata": {},
     "output_type": "execute_result"
    }
   ],
   "source": [
    "# check accuracy\n",
    "model_0_to_9.evaluate(x_test,y_test_10)"
   ]
  },
  {
   "cell_type": "code",
   "execution_count": 10,
   "metadata": {},
   "outputs": [
    {
     "name": "stdout",
     "output_type": "stream",
     "text": [
      "Model: \"sequential_1\"\n",
      "_________________________________________________________________\n",
      "Layer (type)                 Output Shape              Param #   \n",
      "=================================================================\n",
      "dense (Dense)                (None, 500)               392500    \n",
      "_________________________________________________________________\n",
      "activation (Activation)      (None, 500)               0         \n",
      "_________________________________________________________________\n",
      "dense_1 (Dense)              (None, 500)               250500    \n",
      "_________________________________________________________________\n",
      "dense_3 (Dense)              (None, 2)                 1002      \n",
      "_________________________________________________________________\n",
      "activation_3 (Activation)    (None, 2)                 0         \n",
      "=================================================================\n",
      "Total params: 644,002\n",
      "Trainable params: 644,002\n",
      "Non-trainable params: 0\n",
      "_________________________________________________________________\n"
     ]
    }
   ],
   "source": [
    "# new_output_layer for 0,1 \n",
    "new_output_layer = [Dense(2), Activation('softmax')]\n",
    "\n",
    "# assemble new model\n",
    "model_0_to_1 = Sequential(all_except_last + new_output_layer)\n",
    "model_0_to_1.summary()"
   ]
  },
  {
   "cell_type": "code",
   "execution_count": 11,
   "metadata": {
    "scrolled": true
   },
   "outputs": [
    {
     "name": "stdout",
     "output_type": "stream",
     "text": [
      "Model: \"sequential_1\"\n",
      "_________________________________________________________________\n",
      "Layer (type)                 Output Shape              Param #   \n",
      "=================================================================\n",
      "dense (Dense)                (None, 500)               392500    \n",
      "_________________________________________________________________\n",
      "activation (Activation)      (None, 500)               0         \n",
      "_________________________________________________________________\n",
      "dense_1 (Dense)              (None, 500)               250500    \n",
      "_________________________________________________________________\n",
      "dense_3 (Dense)              (None, 2)                 1002      \n",
      "_________________________________________________________________\n",
      "activation_3 (Activation)    (None, 2)                 0         \n",
      "=================================================================\n",
      "Total params: 644,002\n",
      "Trainable params: 1,002\n",
      "Non-trainable params: 643,000\n",
      "_________________________________________________________________\n"
     ]
    }
   ],
   "source": [
    "# training models except first & second layer\n",
    "\n",
    "for layer in all_except_last:\n",
    "    layer.trainable = False\n",
    "    \n",
    "# check the amount of trainable and non-trainable\n",
    "model_0_to_1.summary()"
   ]
  },
  {
   "cell_type": "code",
   "execution_count": 12,
   "metadata": {},
   "outputs": [],
   "source": [
    "# compile\n",
    "model_0_to_1.compile(loss='mse',\n",
    "                    optimizer=SGD(lr=0.1),\n",
    "                    metrics=['accuracy'])"
   ]
  },
  {
   "cell_type": "code",
   "execution_count": 13,
   "metadata": {
    "scrolled": true
   },
   "outputs": [
    {
     "name": "stdout",
     "output_type": "stream",
     "text": [
      "Epoch 1/5\n",
      "127/127 [==============================] - 1s 4ms/step - loss: 0.0196 - accuracy: 0.9795\n",
      "Epoch 2/5\n",
      "127/127 [==============================] - 1s 4ms/step - loss: 0.0043 - accuracy: 0.9966\n",
      "Epoch 3/5\n",
      "127/127 [==============================] - 1s 4ms/step - loss: 0.0036 - accuracy: 0.9968\n",
      "Epoch 4/5\n",
      "127/127 [==============================] - 1s 5ms/step - loss: 0.0032 - accuracy: 0.9972\n",
      "Epoch 5/5\n",
      "127/127 [==============================] - 1s 4ms/step - loss: 0.0030 - accuracy: 0.9971\n"
     ]
    },
    {
     "data": {
      "text/plain": [
       "<tensorflow.python.keras.callbacks.History at 0x7fe735e9ead0>"
      ]
     },
     "execution_count": 13,
     "metadata": {},
     "output_type": "execute_result"
    }
   ],
   "source": [
    "# as data amount decrease\n",
    "# epochs should decrease as well to avoid over-fitting\n",
    "model_0_to_1.fit(x_train_01, y_train_01, batch_size=100, epochs=5)"
   ]
  },
  {
   "cell_type": "code",
   "execution_count": 14,
   "metadata": {},
   "outputs": [
    {
     "name": "stdout",
     "output_type": "stream",
     "text": [
      "67/67 [==============================] - 0s 4ms/step - loss: 0.0016 - accuracy: 0.9976\n"
     ]
    },
    {
     "data": {
      "text/plain": [
       "[0.0016297576949000359, 0.9976359605789185]"
      ]
     },
     "execution_count": 14,
     "metadata": {},
     "output_type": "execute_result"
    }
   ],
   "source": [
    "# check score\n",
    "model_0_to_1.evaluate(x_test_01, y_test_01)"
   ]
  },
  {
   "cell_type": "markdown",
   "metadata": {},
   "source": [
    "首先利用MNIST資料庫與NN標準神經網路，利用list的方式寫出各層layer，再利用Sequential函式建構0-9的手寫數字辨識模型，再來訓練與評分可以發現準確度有91%，若增加訓練次數可以再近一步改善準確率。\n",
    "\n",
    "再來，我們想將這個神經網路的概念移植到0、1兩種數字的手寫判讀模型，首先抽取出0、1的資料，更改產出層(new_output_layer)將Dense層改成只有2種output，再來訓練與組裝都與之前相同，但要注意因為資料量減少所以訓練次數epochs不要太多，避免over-fitting。"
   ]
  },
  {
   "cell_type": "code",
   "execution_count": 15,
   "metadata": {},
   "outputs": [],
   "source": [
    "# save model\n",
    "model_0_to_1.json = model_0_to_1.to_json()\n",
    "open('handwriting_model_nn_transferlearning.json','w').write(model_0_to_1.json)\n",
    "\n",
    "# save weights\n",
    "model_0_to_1.save_weights('handwriting_weights_nn_transferlearning.h5')"
   ]
  }
 ],
 "metadata": {
  "kernelspec": {
   "display_name": "Python 3",
   "language": "python",
   "name": "python3"
  },
  "language_info": {
   "codemirror_mode": {
    "name": "ipython",
    "version": 3
   },
   "file_extension": ".py",
   "mimetype": "text/x-python",
   "name": "python",
   "nbconvert_exporter": "python",
   "pygments_lexer": "ipython3",
   "version": "3.7.6"
  }
 },
 "nbformat": 4,
 "nbformat_minor": 4
}
